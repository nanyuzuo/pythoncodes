{
 "cells": [
  {
   "cell_type": "code",
   "execution_count": 1,
   "id": "d9d196b8",
   "metadata": {},
   "outputs": [
    {
     "name": "stdout",
     "output_type": "stream",
     "text": [
      "hello world\n"
     ]
    }
   ],
   "source": [
    "print(\"hello world\")"
   ]
  },
  {
   "cell_type": "code",
   "execution_count": 1,
   "id": "ee4d6a09",
   "metadata": {
    "scrolled": true
   },
   "outputs": [
    {
     "name": "stdout",
     "output_type": "stream",
     "text": [
      "5050\n"
     ]
    }
   ],
   "source": [
    "total = 0\n",
    "for i in range(1,101):\n",
    "    total = total + i\n",
    "print(total)"
   ]
  },
  {
   "cell_type": "code",
   "execution_count": 1,
   "id": "e88070ac",
   "metadata": {},
   "outputs": [
    {
     "name": "stdout",
     "output_type": "stream",
     "text": [
      "百元1张，五十元1张，二十元1张，十元1张，五元1张，一元1张\n",
      "百元4张，五十元1张，二十元1张，十元1张，五元1张，一元2张\n"
     ]
    }
   ],
   "source": [
    "def combination(n):\n",
    "    b100 = n // 100\n",
    "    b50 = (n - b100 * 100) // 50\n",
    "    b20 = (n - b100 * 100 - b50 * 50) // 20\n",
    "    b10 = (n - b100 * 100 - b50 * 50 - b20 * 20) // 10\n",
    "    b5 = (n - b100 * 100 - b50 * 50 - b20 * 20 -b10 * 10) // 5\n",
    "    b1 = n - b100 * 100 - b50 * 50 - b20 * 20 -b10 * 10 - b5 *5\n",
    "    print(f\"百元{b100}张，五十元{b50}张，二十元{b20}张，十元{b10}张，五元{b5}张，一元{b1}张\")\n",
    "combination(186)\n",
    "combination(487)"
   ]
  },
  {
   "cell_type": "code",
   "execution_count": null,
   "id": "b84e0ce1",
   "metadata": {},
   "outputs": [],
   "source": []
  }
 ],
 "metadata": {
  "kernelspec": {
   "display_name": "Python 3 (ipykernel)",
   "language": "python",
   "name": "python3"
  },
  "language_info": {
   "codemirror_mode": {
    "name": "ipython",
    "version": 3
   },
   "file_extension": ".py",
   "mimetype": "text/x-python",
   "name": "python",
   "nbconvert_exporter": "python",
   "pygments_lexer": "ipython3",
   "version": "3.11.0"
  },
  "vscode": {
   "interpreter": {
    "hash": "422ce11d146dcffcd918c77935c3edc681559d4fe83705835319765a6cf521b2"
   }
  }
 },
 "nbformat": 4,
 "nbformat_minor": 5
}

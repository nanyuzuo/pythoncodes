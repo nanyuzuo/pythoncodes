{
 "cells": [
  {
   "cell_type": "markdown",
   "id": "5abb9895",
   "metadata": {
    "heading_collapsed": true
   },
   "source": [
    "### 两个数快速交换技巧"
   ]
  },
  {
   "cell_type": "code",
   "execution_count": null,
   "id": "ef3e8b28",
   "metadata": {
    "hidden": true
   },
   "outputs": [],
   "source": [
    "a = 5\n",
    "b = 10\n",
    "a,b = b,a\n",
    "print(a,b)"
   ]
  },
  {
   "cell_type": "markdown",
   "id": "de840b98",
   "metadata": {
    "heading_collapsed": true
   },
   "source": [
    "### 复合赋值运算符"
   ]
  },
  {
   "cell_type": "code",
   "execution_count": null,
   "id": "f7fc7c4e",
   "metadata": {
    "hidden": true,
    "scrolled": true
   },
   "outputs": [],
   "source": [
    "a = 5\n",
    "a += 2 # a = a + 2\n",
    "print(a)\n",
    "b = 10\n",
    "b *= 5 # b = b * 5\n",
    "print(b)"
   ]
  },
  {
   "cell_type": "code",
   "execution_count": null,
   "id": "c043f8b9",
   "metadata": {
    "code_folding": [],
    "hidden": true
   },
   "outputs": [],
   "source": [
    "number = int(input(\"请输入一个数:\"))\n",
    "if number % 2 == 0:\n",
    "    print(\"这个数是偶数\")\n",
    "else:\n",
    "    print(\"这个数是奇数\")"
   ]
  },
  {
   "cell_type": "markdown",
   "id": "a7a4fd68",
   "metadata": {
    "heading_collapsed": true
   },
   "source": [
    "### 关于字符串\n"
   ]
  },
  {
   "cell_type": "code",
   "execution_count": null,
   "id": "efae5118",
   "metadata": {
    "hidden": true,
    "scrolled": true
   },
   "outputs": [],
   "source": [
    "# 单引号与双引号的互相嵌套\n",
    "# 用双引号嵌套单引号\n",
    "hobby = \"andy's bobby is smoking\"\n",
    "#或者可以使用转义符\\来解决,但通常不这样做\n",
    "hobby = 'andy\\'s bobby is smoking'\n",
    "# 用单引号嵌套双引号\n",
    "print('古人云:\"人生除死无大事\"')\n",
    "print(hobby)\n",
    "# 三引号,用于大段带格式文本\n",
    "zen = '''\n",
    "Zen of Python, by Tim Peters\n",
    "\n",
    "Beautiful is better than ugly.\n",
    "Explicit is better than implicit.\n",
    "Simple is better than complex.\n",
    "Complex is better than complicated.\n",
    "Flat is better than nested.\n",
    "Sparse is better than dense.\n",
    "'''\n",
    "print(zen)"
   ]
  },
  {
   "cell_type": "markdown",
   "id": "cbfd5cac",
   "metadata": {
    "heading_collapsed": true,
    "hidden": true
   },
   "source": [
    "#### 字符串join()函数"
   ]
  },
  {
   "cell_type": "code",
   "execution_count": null,
   "id": "90e89626",
   "metadata": {
    "code_folding": [],
    "hidden": true
   },
   "outputs": [],
   "source": [
    "# sep.join(iterable)\n",
    "# sep是分隔符，将iterable中的所有元素合并为一个新的字符串\n",
    "list_val = ['www','baidu','com']\n",
    "str_val = '.'.join(list_val)\n",
    "print(str_val)"
   ]
  },
  {
   "cell_type": "markdown",
   "id": "c2923e54",
   "metadata": {
    "heading_collapsed": true,
    "hidden": true
   },
   "source": [
    "#### 字符串分割方法"
   ]
  },
  {
   "cell_type": "code",
   "execution_count": null,
   "id": "c6daf633",
   "metadata": {
    "hidden": true
   },
   "outputs": [],
   "source": [
    "# split()函数\n",
    "# str.split(\"分割符\",分割次数)\n",
    "# 默认是用空格、\\n、\\r、\\t进行分割\n",
    "# splitlines()函数，只使用\\n、\\r、或\\n\\r等行界定符进行分割\n",
    "# partition()函数，利用分割符把一个字符串分成3个部分，切割后的结果是个元组\n",
    "# str.partition(分割符)=(分割符前的部分,分割符,分割符后的部分)\n",
    "str_val = 'LoveYouPython'\n",
    "print(str_val.partition('o'))"
   ]
  },
  {
   "cell_type": "markdown",
   "id": "ca65b72d",
   "metadata": {
    "heading_collapsed": true,
    "hidden": true
   },
   "source": [
    "#### 字符串修建"
   ]
  },
  {
   "cell_type": "code",
   "execution_count": null,
   "id": "c4d937b8",
   "metadata": {
    "hidden": true,
    "scrolled": true
   },
   "outputs": [],
   "source": [
    "# strip()修剪，把左右两边的空格修剪去除\n",
    "# str.strip([charts])\n",
    "str_val = ' hello,  world  '\n",
    "print(str_val.strip())\n",
    "# lstrip()修剪，把左两边的空格修剪去除\n",
    "print(str_val.lstrip())\n",
    "# rstrip()修剪，把右两边的空格修剪去除\n",
    "print(str_val.rstrip())"
   ]
  },
  {
   "cell_type": "markdown",
   "id": "0e9aecf2",
   "metadata": {
    "hidden": true
   },
   "source": [
    "enumerate()函数获取列表索引"
   ]
  },
  {
   "cell_type": "code",
   "execution_count": null,
   "id": "a6f3bba9",
   "metadata": {
    "hidden": true
   },
   "outputs": [],
   "source": [
    "list = ['香烟','瓜子','矿泉水']\n",
    "for num,value in enumerate(list):\n",
    "    print(f'第{num+1}个是{value}')"
   ]
  },
  {
   "cell_type": "markdown",
   "id": "6480fe6b",
   "metadata": {
    "heading_collapsed": true
   },
   "source": [
    "### 列表操作"
   ]
  },
  {
   "cell_type": "code",
   "execution_count": null,
   "id": "700080cf",
   "metadata": {
    "hidden": true
   },
   "outputs": [],
   "source": [
    "book = ['西游记','水浒传','三国演义','红楼梦']\n",
    "# 列表新增append、insert、extend\n",
    "book.append('金瓶梅')\n",
    "print(book)\n",
    "book.insert(1,'侠客行')\n",
    "print(book)\n",
    "kungfu = ['天龙八部','笑傲江湖']\n",
    "book.extend(kungfu)\n",
    "print(book)\n",
    "# 列表修改\n",
    "book[-2] = '哈利波特'\n",
    "print(book)\n",
    "# 列表查询\n",
    "# in判断是否在列表中，not in判断不在列表中\n",
    "# index查询索引，如果有多个，只返回第一个\n",
    "print(book.index('红楼梦'))\n",
    "# count查询列表中有几个元素\n",
    "print(book.count('哈利波特'))\n",
    "# 列表删除\n",
    "# del根据索引删除\n",
    "del book[-1]\n",
    "print(book)\n",
    "# pop删除最后一个元素\n",
    "book.pop()\n",
    "print(book)\n",
    "# remove删除指定的元素\n",
    "book.remove('金瓶梅')\n",
    "print(book)"
   ]
  },
  {
   "cell_type": "markdown",
   "id": "3efae2d6",
   "metadata": {
    "heading_collapsed": true
   },
   "source": [
    "### 列表推导式"
   ]
  },
  {
   "cell_type": "code",
   "execution_count": null,
   "id": "4a0a939e",
   "metadata": {
    "hidden": true
   },
   "outputs": [],
   "source": [
    "# [表达式 for item in list]\n",
    "list_val = [i**2 for i in range(1, 5)]\n",
    "print(list_val)\n",
    "word_list = ['I','Love','pYthon']\n",
    "print([i.upper() for i in word_list])\n",
    "print([i.title() for i in word_list])"
   ]
  },
  {
   "cell_type": "markdown",
   "id": "fc33b7cb",
   "metadata": {
    "heading_collapsed": true
   },
   "source": [
    "### 创建元组的注意事项"
   ]
  },
  {
   "cell_type": "code",
   "execution_count": null,
   "id": "31c946e7",
   "metadata": {
    "hidden": true
   },
   "outputs": [],
   "source": [
    "# 当元组中只有一个元素的时候，记得要在元素后加,否则就不会是元组\n",
    "tuple_1 = ('hi',)\n",
    "print(type(tuple_1))\n",
    "tuple_1 = ('hi')\n",
    "print(type(tuple_1))"
   ]
  },
  {
   "cell_type": "markdown",
   "id": "7acf8d7a",
   "metadata": {
    "heading_collapsed": true
   },
   "source": [
    "### 字典操作"
   ]
  },
  {
   "cell_type": "code",
   "execution_count": null,
   "id": "1fd24de9",
   "metadata": {
    "hidden": true
   },
   "outputs": [],
   "source": [
    "# 字典是无序的，所以意味着不存在索引和切片\n",
    "# 创建字典\n",
    "heros = {'及时雨':'宋江','玉麒麟':'卢俊义','花和尚':'鲁智深'}\n",
    "# 增加\n",
    "# 增加单个键值对\n",
    "heros['黑旋风'] = '李逵'\n",
    "print(heros)\n",
    "# update增加多个键值对\n",
    "dict_val = {'入云龙':'公孙胜','母夜叉':'孙二娘'}\n",
    "heros.update(dict_val)\n",
    "print(heros)\n",
    "# 修改\n",
    "heros['及时雨'] = '宋公明'\n",
    "print(heros)\n",
    "# 删除\n",
    "# 使用del删除\n",
    "del heros['母夜叉']\n",
    "print(heros)\n",
    "# 使用pop删除\n",
    "heros.pop('入云龙')\n",
    "print(heros)\n",
    "# 使用popitem删除最后一个键值对\n",
    "heros.popitem()\n",
    "print(heros)\n",
    "# clear清空字典\n",
    "# heros.clear()\n",
    "# print(heros)\n",
    "# 查询in，需要根据键名，而不是键值进行查找\n",
    "# 使用keys方法取键名\n",
    "keys = heros.keys()\n",
    "print(keys) #此时取出的是字典视图，而不是列表\n",
    "#转换为列表\n",
    "keys_list = list(keys)\n",
    "print(keys_list)\n",
    "for key in keys:\n",
    "    print(key)\n",
    "# 使用values方法取键值\n",
    "values = list(heros.values())\n",
    "print(values)\n",
    "# 使用items方法获取键值对\n",
    "items = heros.items()\n",
    "print(list(items))\n",
    "# 使用元组的拆包分别获取key与value\n",
    "key,value = list(items)[0]\n",
    "print(key)\n",
    "print(value)"
   ]
  },
  {
   "cell_type": "markdown",
   "id": "f294a5fd",
   "metadata": {
    "heading_collapsed": true
   },
   "source": [
    "### 查看内置函数"
   ]
  },
  {
   "cell_type": "code",
   "execution_count": null,
   "id": "a2eac73a",
   "metadata": {
    "hidden": true
   },
   "outputs": [],
   "source": [
    "print(dir(__builtin__))"
   ]
  },
  {
   "cell_type": "markdown",
   "id": "d8a73143",
   "metadata": {
    "heading_collapsed": true
   },
   "source": [
    "### 函数的全局变量与局部变量"
   ]
  },
  {
   "cell_type": "markdown",
   "id": "084d27df",
   "metadata": {
    "hidden": true
   },
   "source": [
    "1. 对于不可变类型的全局变量，需要使用global才能修改全局变量\n",
    "2. 对于可变类型的全局变量，不使用global也可修改全局变量。"
   ]
  },
  {
   "cell_type": "markdown",
   "id": "bcaafae9",
   "metadata": {
    "heading_collapsed": true
   },
   "source": [
    "### 函数嵌套"
   ]
  },
  {
   "cell_type": "markdown",
   "id": "e501cb4a",
   "metadata": {
    "hidden": true
   },
   "source": [
    "注意：在函数内再定义函数时，如果想在这个定义函数内修改外部变量的值就不能用global了，此时要用nonlocal"
   ]
  },
  {
   "cell_type": "markdown",
   "id": "d3ff19aa",
   "metadata": {
    "heading_collapsed": true
   },
   "source": [
    "### 函数的递归"
   ]
  },
  {
   "cell_type": "markdown",
   "id": "74803833",
   "metadata": {
    "code_folding": [],
    "heading_collapsed": true,
    "hidden": true
   },
   "source": [
    "#### 递归经典求阶乘"
   ]
  },
  {
   "cell_type": "code",
   "execution_count": null,
   "id": "7d95c090",
   "metadata": {
    "code_folding": [],
    "hidden": true
   },
   "outputs": [],
   "source": [
    "def fact(n):\n",
    "    if n == 1:\n",
    "        return 1\n",
    "    else:\n",
    "        return n * fact(n-1)\n",
    "print(fact(5))"
   ]
  },
  {
   "cell_type": "markdown",
   "id": "fe9b01af",
   "metadata": {
    "code_folding": [],
    "heading_collapsed": true,
    "hidden": true
   },
   "source": [
    "#### 注意：使用递归时要注意栈溢出问题，因为栈的大小不是无限的，每使用一次递归就会增加栈。调用太多会导致栈溢出"
   ]
  },
  {
   "cell_type": "markdown",
   "id": "0475591d",
   "metadata": {
    "heading_collapsed": true
   },
   "source": [
    "### 面向过程与面向对象编程的区别"
   ]
  },
  {
   "attachments": {},
   "cell_type": "markdown",
   "id": "ce5c89a5",
   "metadata": {
    "hidden": true
   },
   "source": [
    "#### 面向过程编程\n",
    "以事件的先后流程作为思考的出发点，面向的是事件\n",
    "![](http://nanyuzuo.xin/images/notebook/guocheng.png)\n",
    "\n",
    "#### 面向过程编程的优缺点\n",
    "1. 优点:\n",
    "* 流程化使得编程任务明确，在开发之前基本考虑了实现方式和最终结果，具体步骤清楚，便于节点分析；\n",
    "* 效率高，面向过程强调代码的短小精悍，善于结合数据结构来开发高效率的程序。\n",
    "2. 缺点：\n",
    "* 需要深入的思考，耗费精力。\n",
    "* 代码重用性低，扩展能力差，后期维护难度比较大。"
   ]
  },
  {
   "attachments": {},
   "cell_type": "markdown",
   "id": "568ae350",
   "metadata": {
    "hidden": true
   },
   "source": [
    "#### 面向对象编程\n",
    "以对象自身所具备的属性和方法为核心作为思考的出发点，面向的是对象\n",
    "![](http://nanyuzuo.xin/images/notebook/duixiang.png)\n",
    "**在python中一切都是对象**\n",
    "#### 面向对象编程的优缺点\n",
    "1. 优点:\n",
    "* 结构清晰，程序是模块化和结构化，更加符合人类的思维方式；\n",
    "* 易扩展，代码重用率高，可继承，可覆盖，可以设计出低耦合的系统；\n",
    "* 易维护，系统低耦合的特点有利于减少程序的后期维护工作量。\n",
    "2. 缺点：\n",
    "* 开销大，当要修改对象内部时，对象的属性不允许外部直接存取，所以要增加许多没有其他意义、只负责读或写的行为。这会为编程工作增加负担，增加运行开销，并且使程序显得臃肿。\n",
    "* 性能低，由于面向更高的逻辑抽象层，使得面向对象在实现的时候，不得不做出性能上面的牺牲。计算时间和空间存储大小都开销很大。"
   ]
  },
  {
   "cell_type": "markdown",
   "id": "8cb682ef",
   "metadata": {},
   "source": [
    "### 创建类与实例"
   ]
  },
  {
   "cell_type": "markdown",
   "id": "073cdea3",
   "metadata": {},
   "source": [
    "**类名需要按照大驼峰法定位，即首字母大写**\n",
    "\n",
    "**当还没想好怎么写这个类时，用pass**\n",
    "![](http://nanyuzuo.xin/images/notebook/class.png)"
   ]
  },
  {
   "cell_type": "markdown",
   "id": "8bd99a0d",
   "metadata": {},
   "source": [
    "**创建方法**\n",
    "![](http://nanyuzuo.xin/images/notebook/method.png)"
   ]
  },
  {
   "cell_type": "code",
   "execution_count": null,
   "id": "ff49880e",
   "metadata": {
    "code_folding": []
   },
   "outputs": [],
   "source": [
    "# 创建类\n",
    "class Animal(object):\n",
    "# 创建方法,其中的self就是实例对象本身\n",
    "    def eat(self,food):\n",
    "        print(f'正在吃{food}')\n",
    "    def play(self):\n",
    "        print('正在玩耍')\n",
    "    def sleep(self):\n",
    "        self.eat('狗粮') # dog.eat('狗粮')\n",
    "        print('正在睡觉')\n",
    "# 创建实例\n",
    "dog = Animal()\n",
    "# 调用方法\n",
    "dog.eat('狗粮')\n",
    "dog.play()\n",
    "dog.sleep()\n",
    "# 为了更清晰的说明实例对象是什么，其实也可以用类直接调用，但是需要传递一个实例对象\n",
    "Animal.eat(dog,'狗粮')\n"
   ]
  },
  {
   "cell_type": "markdown",
   "id": "651fe925",
   "metadata": {
    "heading_collapsed": true
   },
   "source": [
    "#### \\_ \\_init\\_  \\_初始化方法"
   ]
  },
  {
   "cell_type": "code",
   "execution_count": 23,
   "id": "566545e3",
   "metadata": {
    "hidden": true
   },
   "outputs": [
    {
     "name": "stdout",
     "output_type": "stream",
     "text": [
      "泰迪,今年5岁，正在玩耍\n",
      "佩奇正在吃饼干\n"
     ]
    }
   ],
   "source": [
    "# 在实例化对象的时候自动调用,会优先进行\n",
    "# 创建类\n",
    "class Animal(object):\n",
    "# 创建方法,其中的self就是实例对象本身\n",
    "    def __init__(self,name,age):\n",
    "        self.name = name\n",
    "        self.age = age\n",
    "    def eat(self,food):\n",
    "        print(f'{self.name}正在吃{food}')\n",
    "    def play(self):\n",
    "        print(f'{self.name},今年{self.age}岁，正在玩耍')\n",
    "    def sleep(self):\n",
    "        self.eat('狗粮') # dog.eat('狗粮')\n",
    "        print('正在睡觉')\n",
    "dog = Animal('泰迪',5)\n",
    "dog.play()\n",
    "pig = Animal('佩奇','')\n",
    "pig.eat('饼干')"
   ]
  },
  {
   "cell_type": "markdown",
   "id": "18d692af",
   "metadata": {
    "heading_collapsed": true
   },
   "source": [
    "### 实例属性与类属性"
   ]
  },
  {
   "cell_type": "markdown",
   "id": "4302ffdf",
   "metadata": {
    "hidden": true
   },
   "source": [
    "* 当一个实例自身具备属性时，会优先使用自身的属性\n",
    "* 当一个实例自身并没有定义属性时，会使用类属性\n"
   ]
  },
  {
   "cell_type": "markdown",
   "id": "a9eec828",
   "metadata": {
    "heading_collapsed": true
   },
   "source": [
    "### 类的继承"
   ]
  },
  {
   "cell_type": "code",
   "execution_count": 25,
   "id": "d253af62",
   "metadata": {
    "hidden": true
   },
   "outputs": [
    {
     "name": "stdout",
     "output_type": "stream",
     "text": [
      "腊肠狗会汪汪叫\n"
     ]
    }
   ],
   "source": [
    "# 创建父类\n",
    "class Animal(object):\n",
    "# 创建方法,其中的self就是实例对象本身\n",
    "    def __init__(self,name):\n",
    "        self.name = name\n",
    "    def eat(self):\n",
    "        print(f'{self.name}正在吃东西')\n",
    "    def play(self):\n",
    "        print(f'{self.name}正在玩耍')\n",
    "    def sleep(self):\n",
    "        print(f'{self.name}正在睡觉')\n",
    "# 创建子类,此时的object就要写成父类名\n",
    "class Dog(Animal):\n",
    "    def bark(self):\n",
    "        print(f'{self.name}会汪汪叫')\n",
    "class Pig(Animal):\n",
    "    def buu(self):\n",
    "        print(f'小猪会布布叫')\n",
    "dog = Dog('腊肠狗')\n",
    "dog.bark()"
   ]
  },
  {
   "cell_type": "markdown",
   "id": "1755341d",
   "metadata": {},
   "source": [
    "### 方法的重写"
   ]
  },
  {
   "cell_type": "markdown",
   "id": "5a301ccb",
   "metadata": {},
   "source": [
    "当子类和父类定义了同一个方法时，子类的方法会覆盖父类的方法，被称为方法的重写"
   ]
  },
  {
   "cell_type": "markdown",
   "id": "4643a25f",
   "metadata": {},
   "source": [
    "### 调用父类的初始化方法"
   ]
  },
  {
   "cell_type": "code",
   "execution_count": 28,
   "id": "5287102d",
   "metadata": {
    "scrolled": true
   },
   "outputs": [
    {
     "name": "stdout",
     "output_type": "stream",
     "text": [
      "腊肠狗正在吃狗粮\n"
     ]
    }
   ],
   "source": [
    "# 当子类有一个初始化方法时，这个子类的初始化方法会重写父类的，如果希望\n",
    "# 继续使用父类的初始化方法时，需要使用super()\n",
    "# 这样可以保留父类的初始化和自身的初始化方法\n",
    "class Animal(object):\n",
    "# 创建方法,其中的self就是实例对象本身\n",
    "    def __init__(self,name):\n",
    "        self.name = name\n",
    "    def eat(self):\n",
    "        print(f'{self.name}正在吃东西')\n",
    "    def play(self):\n",
    "        print(f'{self.name}正在玩耍')\n",
    "    def sleep(self):\n",
    "        print(f'{self.name}正在睡觉')\n",
    "class Dog(Animal):\n",
    "    def __init__(self,name,gender):\n",
    "        super().__init__(name)\n",
    "        self.gender = gender\n",
    "    def eat(self):\n",
    "        print(f'{self.name}正在吃狗粮')\n",
    "    def bark(self):\n",
    "        print(f'{self.name}会汪汪叫')\n",
    "dog = Dog('腊肠狗','male')\n",
    "dog.eat()"
   ]
  },
  {
   "cell_type": "markdown",
   "id": "d0f62cc7",
   "metadata": {},
   "source": [
    "### 调用自定义模块"
   ]
  },
  {
   "cell_type": "code",
   "execution_count": null,
   "id": "f7e1b1b0",
   "metadata": {},
   "outputs": [],
   "source": [
    "# 调用自定义模块，会优先从同级路径中搜索，如果没有，可以使用以下方式\n",
    "# 看看模块的搜索路径，在哪个文件夹下，比如想调用utils文件夹下的functions.py\n",
    "# 就可以用 import utils.function\n",
    "import sys\n",
    "print(sys.path)\n"
   ]
  },
  {
   "cell_type": "markdown",
   "id": "b1426e2f",
   "metadata": {},
   "source": [
    "### 神奇的\\_\\_name\\_\\_=='\\_\\_main\\_\\_'"
   ]
  },
  {
   "cell_type": "code",
   "execution_count": 33,
   "id": "62fadc02",
   "metadata": {},
   "outputs": [
    {
     "name": "stdout",
     "output_type": "stream",
     "text": [
      "3\n",
      "-1\n"
     ]
    }
   ],
   "source": [
    "# 对于已经编写完毕的功能模块，我们想测试下它的功能是否能正常运行\n",
    "# 但又不想把它导入后再测试，而只是在模块中运行测试，就可以使用\n",
    "def add(x,y):\n",
    "    return x + y\n",
    "def subtraction(x,y):\n",
    "    return x - y\n",
    "if __name__ == '__main__':\n",
    "# 以下就可以加入测试语句\n",
    "    print(add(1,2))\n",
    "    print(subtraction(1,2))\n",
    "# 而在其他文件中导入上述模块的时候，在其他文件中__name__并不等于__main__\n",
    "# 所以测试语句就不会执行，所以不会对导入的文件造成影响\n",
    "    "
   ]
  }
 ],
 "metadata": {
  "kernelspec": {
   "display_name": "Python 3 (ipykernel)",
   "language": "python",
   "name": "python3"
  },
  "language_info": {
   "codemirror_mode": {
    "name": "ipython",
    "version": 3
   },
   "file_extension": ".py",
   "mimetype": "text/x-python",
   "name": "python",
   "nbconvert_exporter": "python",
   "pygments_lexer": "ipython3",
   "version": "3.10.1"
  }
 },
 "nbformat": 4,
 "nbformat_minor": 5
}

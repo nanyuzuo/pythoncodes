{
 "cells": [
  {
   "cell_type": "markdown",
   "id": "bade591f",
   "metadata": {},
   "source": [
    "# 1.1基础知识"
   ]
  },
  {
   "cell_type": "markdown",
   "id": "7d1fb69b",
   "metadata": {
    "heading_collapsed": true
   },
   "source": [
    "## 1.1.1变量常见用法"
   ]
  },
  {
   "cell_type": "markdown",
   "id": "8331e671",
   "metadata": {
    "heading_collapsed": true,
    "hidden": true
   },
   "source": [
    "### 01变量解包"
   ]
  },
  {
   "cell_type": "code",
   "execution_count": 9,
   "id": "d771692d",
   "metadata": {
    "hidden": true
   },
   "outputs": [
    {
     "name": "stdout",
     "output_type": "stream",
     "text": [
      "hooray\n",
      "1\n",
      "hooray\n",
      "['apple', 'banana', 'orange']\n"
     ]
    }
   ],
   "source": [
    "# 变量解包(unpacking)是Python里的一种特殊赋值操作，允许我们把一个可迭代对象（比如列表）的所有成员，一次性赋值给多个变量：\n",
    "usernames = ['hooray','raymond']\n",
    "author,reader = usernames\n",
    "print(author)\n",
    "#假如在赋值语句左侧添加小括号(…)，甚至可以一次展开多层嵌套数据：\n",
    "attrs = [1,['hooray',100]]\n",
    "user_id,(username,score) = attrs\n",
    "print(user_id)\n",
    "# 除了上面的普通解包外，Phon还支持更灵活的动态解包语法。只要用星号表达式(*variables)作为变量名，它便会贪婪1地捕获多个值对象，并将捕获到的内容作为列表赋值给 variables：\n",
    "'''比如，下面data列表里的数据就分为三段：头为用户，尾为分数，中间的都是水果名称。\n",
    "通过把*fruits设置为中间的解包变量，我们就能一次性解包所有变量—fruits会捕获data去头去尾后的所有成员：\n",
    "'''\n",
    "data = ['hooray','apple','banana','orange',100]\n",
    "username,*fruits,score = data\n",
    "print(username)\n",
    "print(fruits)"
   ]
  },
  {
   "cell_type": "code",
   "execution_count": 7,
   "id": "fa20d176",
   "metadata": {
    "code_folding": [],
    "hidden": true
   },
   "outputs": [
    {
     "name": "stdout",
     "output_type": "stream",
     "text": [
      "hooray\n",
      "['apple', 'banana', 'orange']\n"
     ]
    }
   ],
   "source": [
    "# 和常规的切片赋值语句比起来，动态解包语法要直观许多,上面的例子可以完全等价为\n",
    "data = ['hooray','apple','banana','orange',100]\n",
    "username,fruits,score = data[0],data[1:-1],data[-1]\n",
    "print(username)\n",
    "print(fruits)"
   ]
  },
  {
   "cell_type": "code",
   "execution_count": 10,
   "id": "f89dd972",
   "metadata": {
    "hidden": true
   },
   "outputs": [
    {
     "name": "stdout",
     "output_type": "stream",
     "text": [
      "hooray\n",
      "raymod\n"
     ]
    }
   ],
   "source": [
    "# 解包操作也可以在任何循环语句里使用\n",
    "for username,score in [('hooray',100),('raymod',60)]:\n",
    "    print(username)"
   ]
  },
  {
   "cell_type": "markdown",
   "id": "5eb6ab2e",
   "metadata": {
    "heading_collapsed": true,
    "hidden": true
   },
   "source": [
    "### 02单下划线变量名"
   ]
  },
  {
   "cell_type": "code",
   "execution_count": null,
   "id": "6b23a05f",
   "metadata": {
    "hidden": true
   },
   "outputs": [],
   "source": [
    "'''在常用的诸多变量名中，单下划线是比较特殊的一个。它常作为一个无意义的占位符出现在赋值语句中。\n",
    "一这个名字本身没什么特别之处，这算是大家约定俗成的一种用法。\n",
    "举个例子，假如想在解包赋值时忽略某些变量，就可以使用_作为变量名：\n",
    "'''\n",
    "# 忽略展开的第二个变量\n",
    "author,_ = usernames\n",
    "# 忽略第一个和最后一个变量之间的所有变量\n",
    "username,*_,scrore = data\n",
    "# 而在Python交互式命令行（直接执行python命令进入的交互环境)里，变量还有一层特殊含义一默认保存我们输入的上个表达式的返回值："
   ]
  },
  {
   "cell_type": "markdown",
   "id": "435d572f",
   "metadata": {
    "heading_collapsed": true
   },
   "source": [
    "## 1.1.2 给变量注明类型"
   ]
  },
  {
   "cell_type": "markdown",
   "id": "7b08a276",
   "metadata": {
    "hidden": true
   },
   "source": [
    "由于Python是动态类型语言，使用变量时不需要做任何类型声明。这是Python相比其他语言的一个重要优势：它减少了我们的心智负担，让写代码变得更容易。尤其对于许多编程新手来说，“不用声明类型”无疑会让学Python这件事变得简单很多。但任何事物都有其两面性。动态类型所带来的缺点是代码的可读性会因此大打折扣。\n",
    "为了解决动态类型带来的可读性问题，最常见的办法就是在函数文档(docstring)里做文章。我们可以把每个函数参数的类型与说明全都写在函数文档里。\n",
    "下面是增加了Python官方推荐的Sphinx格式文档后的效果："
   ]
  },
  {
   "cell_type": "code",
   "execution_count": null,
   "id": "866dd6d7",
   "metadata": {
    "hidden": true
   },
   "outputs": [],
   "source": [
    "def remove invalid(items):\n",
    "    '''易剔除items里面无效的元素\n",
    "       :param items:待别除对象\n",
    "       :type items:包含整数的列表\n",
    "    '''"
   ]
  },
  {
   "cell_type": "markdown",
   "id": "63d92029",
   "metadata": {
    "hidden": true
   },
   "source": [
    "在上面的函数文档里，type items:注明了items是个整型列表。任何人只要读到这份文档，马上就能知道参数类型，不用再猜来猜去了。\n",
    "当然，标注类型的办法肯定不止上面这一种。在Python3.5版本2以后，你可以用类型注解功能来直接注明变量类型。相比编写 Sphinx格式文档，我其实更推荐使用类型注解，因为它是Python的内置功能，而且正在变得越来越流行。"
   ]
  },
  {
   "cell_type": "code",
   "execution_count": null,
   "id": "d81b8a2a",
   "metadata": {
    "hidden": true
   },
   "outputs": [],
   "source": [
    "#要使用类型注解，只需在变量后添加类型，并用冒号隔开即可比如func(value:str)表示函数的value参数为字符串类型。下面是给remove_invalid)函数添加类型注解后的样子：\n",
    "from typing import List\n",
    "def remove_invalid(item:List[int])\n",
    "#List表示参数为列表类型，[int]表示里面的成员是整型\n"
   ]
  },
  {
   "cell_type": "markdown",
   "id": "f02c330f",
   "metadata": {
    "heading_collapsed": true
   },
   "source": [
    "## 1.1.3 变量命名原则"
   ]
  },
  {
   "cell_type": "markdown",
   "id": "cce9b64d",
   "metadata": {
    "hidden": true
   },
   "source": [
    "### 01遵循PEP8原则\n",
    "给变量起名主要有两种流派：\n",
    "1. 一是通过大小写界定单词的驼峰命名派CamelCase\n",
    "2. 二是通过下划线连接的蛇形命名派 snake case。\n",
    "这两种流派没有明显的优劣之分，似乎与个人喜好有关。为了让不同开发者写出的代码风格尽量保持统一，Python制定了官方的编码风格指南：PEP8。这份风格指南里有许多详细的风格建议，比如应该用4个空格缩进，每行不超过79个字符，等等。其中，当然也包含变量的命名规范：\n",
    "* a.对于普通变量，使用蛇形命名法，比如max_value; \n",
    "* b.对于常量，采用全大写字母，使用下划线连接，比如 MAX VALUE; \n",
    "* c.如果变量标记为“仅内部使用”，为其增加下划线前缀，比如local_var; \n",
    "* d.当名字与Python关键字冲突时，在变量末尾追加下划线，比如class_。\n",
    "* 除变量名以外，PEP8中还有许多其他命名规范，比如类名应该使用驼峰风格(FooClass)、函数应该使用蛇形风格(bar function),等等。给变量起名的第一条原则，就是一定要在格式上遵循以上规范。\n",
    "### 02描述性要强\n",
    "写作过程中的一项重要工作，就是为句子斟酌恰当的词语。不同词语的描述性强弱不同，比如“冬天的梅花”就比“花”的描述性更强。而变量名和普通词语一样，同样有描述性强弱之分假如代码大量使用描述性弱的变量名，读者就很难理解代码的含义。\n",
    "述性弱的名字：看不懂在做什么 value process(s.strip())\n",
    "描述性强的名字：尝试从用户输入里解析出一个用户名 usemname=extract usemame(input_string.strip())所以，在可接受的长度范围内，变量名所指向的内容描述得越精确越好\n",
    "### 03要尽量简短\n",
    "刚刚说到，变量名的描述性要尽量强，但描述性越强，通常名字也就越长。\n",
    "假如不加思考地实践“描述性原则”，那你的代码里可能会充斥着how_many_points_.needed_for_user_level3这种名字，简直像条蛇一样长：\n",
    "```pthon\n",
    "def upgrade to level3(user):\n",
    "  #如果积分满足要求，将用户升级到级别3\n",
    "  how_many_points_needed_for_user_level3=get level_points(3) \n",
    "  if user.points >=how_many_points_needed_for_user_level3:\n",
    "     upgrade(user) \n",
    "  else: \n",
    "  raise Error('积分不够，必须要{}分')\n",
    "```\n",
    "假如一个特别长的名字重复出现，读者不会认为它足够精确，反而会觉得啰俊难读。既然如此，怎么才能在保证描述性的前提下，让名字尽量简短易读呢？我认为个中诀窍在于：为变量命名要结合代码情境和上下文。\n",
    "比如在上面的代码里，upgrade to levels3(user)函数已经通过自己的名称、文档表明了其目的，那在函数内部，我们完全可以把how_many_points_.needed_for_user_level:3直接删减成 level3_points。\n",
    "### 04要匹配类型\n",
    "* a.匹配布尔值类型的变量名布尔值(boo)是一种很简单的类型，它只有两个可能的值：“是”(True)或“不是”(False)。因此，给布尔值变量起名有一个原则：一定要让读到变量的人觉得它只有“肯定”和“否定”两种可能。举例来说，is、has这些非黑即白的词就很适合用来修饰这类名字。\n",
    "* b.匹配int/loat类型的变量名当人们看到和数字有关的名字时，自然就会认定它们是int或float类型。这些名字可简单分为以下几种常见类型： \n",
    "    * a.释义为数字的所有单词，比如pot(端口号)、 age(年龄)、radius(半径)等；\n",
    "    * b.使用以id结尾的单词，比如user id、host id;\n",
    "    * c.使用以length/count开头或者结尾的单词，比如 length of username、max length、users count.\n",
    "* c.匹配其他类型的变量名至于剩下的字符串(str)、列表(Iist)、字典(dict)等其他值类型，我们很难归纳出一个“由名字猜测类型”的统一公式。拿headers这个名字来说，它既可能是一个装满头信息的列表(List[Header]),也可能是一个包含头信息的字典(Dict[str,Header])。\n",
    "### 05超短名\n",
    "在众多变量名里，有一类非常特别，那就是只有一两个字母的短名字。这些短名字一般可分为两类，一类是那些大家约定俗成的短名字，比如： \n",
    "* a.数组索引三剑客i、jk \n",
    "* b.某个整数n \n",
    "* c.某个字符串s \n",
    "* d.某个异常e \n",
    "* e.文件对象fp\n",
    "我并不反对使用这类短名字，我自己也经常用，因为它们写起来的确很方便。但如果条件允许，建议尽量用更精确的名字替代。比如，在表示用户输入的字符串时，用input str替代s会更明确一些。另一类短名字，则是对一些其他常用名的缩写。比如，在使用Diango框架做国际化内容翻译时，常常会用到gettext方法。为了方便，我们常把gettext缩写成_：\n",
    "```pthon\n",
    "from django.utils.translation import gettext as _\n",
    "print(_('待翻译文字'))\n",
    "```\n",
    "如果你的项目中有一些长名字反复出现，可以效仿上面的方式，为它们设置一些短名字作为别名。这样可以让代码变得更紧凑、更易读。但同一个项目内的超短缩写不宜太多，否则会适得其反。\n",
    "### 06其他技巧\n",
    "* 在同一段代码内，不要出现多个相似的变量名，比如同时使用users、users1、users:3这种序列\n",
    "* 可以尝试换词来简化复合变量名，比如用is_special来代替is_not_normal\n",
    "* 如果你苦思冥想都想不出一个合适的名字，请打开 GitHub,到其他人的开源项目里找找灵感吧！"
   ]
  }
 ],
 "metadata": {
  "kernelspec": {
   "display_name": "Python 3 (ipykernel)",
   "language": "python",
   "name": "python3"
  },
  "language_info": {
   "codemirror_mode": {
    "name": "ipython",
    "version": 3
   },
   "file_extension": ".py",
   "mimetype": "text/x-python",
   "name": "python",
   "nbconvert_exporter": "python",
   "pygments_lexer": "ipython3",
   "version": "3.11.4"
  }
 },
 "nbformat": 4,
 "nbformat_minor": 5
}
